{
 "cells": [
  {
   "cell_type": "code",
   "execution_count": 1,
   "id": "3d350aaa",
   "metadata": {},
   "outputs": [
    {
     "ename": "AttributeError",
     "evalue": "'NoneType' object has no attribute 'shape'",
     "output_type": "error",
     "traceback": [
      "\u001b[1;31m---------------------------------------------------------------------------\u001b[0m",
      "\u001b[1;31mAttributeError\u001b[0m                            Traceback (most recent call last)",
      "Input \u001b[1;32mIn [1]\u001b[0m, in \u001b[0;36m<cell line: 6>\u001b[1;34m()\u001b[0m\n\u001b[0;32m      3\u001b[0m img \u001b[38;5;241m=\u001b[39m cv2\u001b[38;5;241m.\u001b[39mimread(\u001b[38;5;124m'\u001b[39m\u001b[38;5;124mbeach.jpg\u001b[39m\u001b[38;5;124m'\u001b[39m)\n\u001b[0;32m      5\u001b[0m \u001b[38;5;66;03m# cv2.imread() -> takes an image as an input\u001b[39;00m\n\u001b[1;32m----> 6\u001b[0m h, w, channels \u001b[38;5;241m=\u001b[39m \u001b[43mimg\u001b[49m\u001b[38;5;241;43m.\u001b[39;49m\u001b[43mshape\u001b[49m\n\u001b[0;32m      8\u001b[0m half \u001b[38;5;241m=\u001b[39m w\u001b[38;5;241m/\u001b[39m\u001b[38;5;241m/\u001b[39m\u001b[38;5;241m2\u001b[39m\n\u001b[0;32m     11\u001b[0m \u001b[38;5;66;03m# this will be the first column\u001b[39;00m\n",
      "\u001b[1;31mAttributeError\u001b[0m: 'NoneType' object has no attribute 'shape'"
     ]
    }
   ],
   "source": [
    "import cv2\n",
    "import numpy as np\n",
    "from matplotlib import pyplot as plt\n",
    "  \n",
    "img = cv2.imread('./images/flemingo.jpg')\n",
    "  \n",
    "# cv2.imread() -> takes an image as an input\n",
    "h, w, channels = img.shape\n",
    "  \n",
    "half = w//2\n",
    "  \n",
    "  \n",
    "# this will be the first column\n",
    "left_part = img[:, :half] \n",
    "  \n",
    "# [:,:half] means all the rows and\n",
    "# all the columns upto index half\n",
    "  \n",
    "# this will be the second column\n",
    "right_part = img[:, half:]  \n",
    "  \n",
    "# [:,half:] means al the rows and all\n",
    "# the columns from index half to the end\n",
    "# cv2.imshow is used for displaying the image\n",
    "cv2.imshow('Left part', left_part)\n",
    "cv2.imshow('Right part', right_part)\n",
    "  \n",
    "# this is horizontal division\n",
    "half2 = h//2\n",
    "  \n",
    "top = img[:half2, :]\n",
    "bottom = img[half2:, :]\n",
    "  \n",
    "cv2.imshow('Top', top)\n",
    "cv2.imshow('Bottom', bottom)\n",
    "  \n",
    "# saving all the images\n",
    "# cv2.imwrite() function will save the image \n",
    "# into your pc\n",
    "cv2.imwrite('top.jpg', top)\n",
    "cv2.imwrite('bottom.jpg', bottom)\n",
    "cv2.imwrite('right.jpg', right_part)\n",
    "cv2.imwrite('left.jpg', left_part)\n",
    "cv2.waitKey(0)"
   ]
  },
  {
   "cell_type": "code",
   "execution_count": null,
   "id": "790e7da4",
   "metadata": {},
   "outputs": [],
   "source": []
  }
 ],
 "metadata": {
  "kernelspec": {
   "display_name": "Python 3 (ipykernel)",
   "language": "python",
   "name": "python3"
  },
  "language_info": {
   "codemirror_mode": {
    "name": "ipython",
    "version": 3
   },
   "file_extension": ".py",
   "mimetype": "text/x-python",
   "name": "python",
   "nbconvert_exporter": "python",
   "pygments_lexer": "ipython3",
   "version": "3.10.0"
  }
 },
 "nbformat": 4,
 "nbformat_minor": 5
}
