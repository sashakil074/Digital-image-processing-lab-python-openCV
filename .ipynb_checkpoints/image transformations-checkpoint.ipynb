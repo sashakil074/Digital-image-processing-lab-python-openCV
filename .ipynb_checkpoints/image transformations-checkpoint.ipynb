{
 "cells": [
  {
   "cell_type": "code",
   "execution_count": 1,
   "id": "09d8934e",
   "metadata": {},
   "outputs": [],
   "source": [
    "#image transformations\n",
    "import cv2\n",
    "import numpy as np\n",
    "from matplotlib import pyplot as plt"
   ]
  },
  {
   "cell_type": "code",
   "execution_count": 3,
   "id": "53603a11",
   "metadata": {},
   "outputs": [],
   "source": [
    "img=cv2.imread('./images/flemingo.jpg')"
   ]
  },
  {
   "cell_type": "code",
   "execution_count": 7,
   "id": "cdb16b4f",
   "metadata": {},
   "outputs": [],
   "source": [
    "def display(winname,image):\n",
    "    cv2.imshow(winname,image)\n",
    "    cv2.waitKey(0)\n",
    "    cv2.destroyAllWindows()"
   ]
  },
  {
   "cell_type": "code",
   "execution_count": 8,
   "id": "4b6df44e",
   "metadata": {},
   "outputs": [],
   "source": [
    "#translations(shifting)\n",
    "tx=100\n",
    "ty=150\n",
    "m=np.float32([[1,0,tx],[0,1,ty]])\n",
    "\n",
    "img_translated=cv2.warpAffine(img,m,(img.shape[1],img.shape[0]))\n",
    "\n",
    "display(\"translated image\",img_translated)"
   ]
  },
  {
   "cell_type": "code",
   "execution_count": 14,
   "id": "193a35ed",
   "metadata": {},
   "outputs": [],
   "source": [
    "#rotation\n",
    "\n",
    "center=(img.shape[1]//2,img.shape[0]//2)\n",
    "m=cv2.getRotationMatrix2D(center,45,1) #45=angle,1=scale\n",
    "\n",
    "img_rotated=cv2.warpAffine(img,m,(img.shape[1],img.shape[0]))\n",
    "\n",
    "display(\"rotated image\",img_rotated)"
   ]
  },
  {
   "cell_type": "code",
   "execution_count": 15,
   "id": "cfb69e01",
   "metadata": {},
   "outputs": [],
   "source": [
    "#resizing\n",
    "\n",
    "resized_img=cv2.resize(img,(300,300),interpolation=cv2.INTER_AREA)\n",
    "\n",
    "display(\"resized image\",resized_img)"
   ]
  },
  {
   "cell_type": "code",
   "execution_count": 17,
   "id": "37a3775b",
   "metadata": {},
   "outputs": [],
   "source": [
    "#flipping\n",
    "flipped_img=cv2.flip(img,-1)\n",
    "display(\"flipped_img\",flipped_img)"
   ]
  },
  {
   "cell_type": "code",
   "execution_count": 18,
   "id": "6e90233e",
   "metadata": {},
   "outputs": [],
   "source": [
    "#cropping \n",
    "\n",
    "cropped_img=img[100:400,100:400]\n",
    "cv2.imshow(\"croppeed img\",cropped_img)\n",
    "cv2.waitKey(0)\n",
    "cv2.destroyAllWindows()"
   ]
  },
  {
   "cell_type": "code",
   "execution_count": 25,
   "id": "37546943",
   "metadata": {},
   "outputs": [
    {
     "data": {
      "text/plain": [
       "(359, 479, 3)"
      ]
     },
     "execution_count": 25,
     "metadata": {},
     "output_type": "execute_result"
    }
   ],
   "source": []
  },
  {
   "cell_type": "code",
   "execution_count": 27,
   "id": "71baa783",
   "metadata": {},
   "outputs": [],
   "source": []
  },
  {
   "cell_type": "code",
   "execution_count": null,
   "id": "17e75368",
   "metadata": {},
   "outputs": [],
   "source": []
  }
 ],
 "metadata": {
  "kernelspec": {
   "display_name": "Python 3 (ipykernel)",
   "language": "python",
   "name": "python3"
  },
  "language_info": {
   "codemirror_mode": {
    "name": "ipython",
    "version": 3
   },
   "file_extension": ".py",
   "mimetype": "text/x-python",
   "name": "python",
   "nbconvert_exporter": "python",
   "pygments_lexer": "ipython3",
   "version": "3.10.0"
  }
 },
 "nbformat": 4,
 "nbformat_minor": 5
}
