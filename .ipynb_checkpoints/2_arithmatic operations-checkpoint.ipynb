{
 "cells": [
  {
   "cell_type": "code",
   "execution_count": 1,
   "id": "9d58f02d",
   "metadata": {},
   "outputs": [],
   "source": [
    "import cv2\n",
    "import numpy as np\n",
    "from matplotlib import pyplot as plt"
   ]
  },
  {
   "cell_type": "code",
   "execution_count": 2,
   "id": "5fc91dc2",
   "metadata": {},
   "outputs": [],
   "source": [
    "img=cv2.imread('./images/flemingo.jpg')"
   ]
  },
  {
   "cell_type": "code",
   "execution_count": 4,
   "id": "19aa156f",
   "metadata": {},
   "outputs": [],
   "source": [
    "#addition of some value to an image\n",
    "\n",
    "value=np.ones_like(img,dtype='uint8')*50\n",
    "\n",
    "img_add=cv2.add(img,value)\n",
    "\n",
    "cv2.imshow('original',img)\n",
    "cv2.imshow('Added',img_add)\n",
    "cv2.waitKey(0)\n",
    "cv2.destroyAllWindows()"
   ]
  },
  {
   "cell_type": "code",
   "execution_count": 6,
   "id": "e60931e1",
   "metadata": {
    "scrolled": true
   },
   "outputs": [
    {
     "data": {
      "image/png": "[encoded data removed]",
      "text/plain": [
       "<Figure size 432x288 with 1 Axes>"
      ]
     },
     "metadata": {
      "needs_background": "light"
     },
     "output_type": "display_data"
    }
   ],
   "source": [
    "#plotting histogram of img_add\n",
    "\n",
    "plt.hist(img_add.ravel(),256,[0,256])\n",
    "plt.show()"
   ]
  },
  {
   "cell_type": "code",
   "execution_count": 9,
   "id": "571d4642",
   "metadata": {},
   "outputs": [],
   "source": [
    "#histogram, equalization\n",
    "gray_img=cv2.cvtColor(img_add,cv2.COLOR_BGR2GRAY)\n",
    "he_img=cv2.equalizeHist(gray_img) \n",
    "cv2.imshow('histogtram equalized',he_img)\n",
    "cv2.waitKey(0)\n",
    "cv2.destroyAllWindows()"
   ]
  },
  {
   "cell_type": "code",
   "execution_count": 10,
   "id": "12129fd9",
   "metadata": {},
   "outputs": [],
   "source": [
    "#subtraction of some value from an image\n",
    "\n",
    "value=np.ones_like(img,dtype='uint8')*50\n",
    "\n",
    "img_sub=cv2.subtract(img,value)\n",
    "cv2.imshow('original',img)\n",
    "cv2.imshow('subtracted',img_sub)\n",
    "cv2.waitKey(0)\n",
    "cv2.destroyAllWindows()"
   ]
  },
  {
   "cell_type": "code",
   "execution_count": 11,
   "id": "4d642ffd",
   "metadata": {},
   "outputs": [
    {
     "data": {
      "image/png": "[encoded data removed]",
      "text/plain": [
       "<Figure size 432x288 with 1 Axes>"
      ]
     },
     "metadata": {
      "needs_background": "light"
     },
     "output_type": "display_data"
    }
   ],
   "source": [
    "#histogram plotting\n",
    "plt.hist(img_sub.ravel(),256,[0,256])\n",
    "plt.show()"
   ]
  },
  {
   "cell_type": "code",
   "execution_count": 13,
   "id": "a342de90",
   "metadata": {},
   "outputs": [],
   "source": [
    "#blending of 2 images\n",
    "img2=cv2.imread('./images/beach.jpg')\n",
    "\n",
    "img2=np.resize(img2,img.shape)\n",
    "\n",
    "blended=cv2.addWeighted(img,0.7,img2,0.3,0)\n",
    "\n",
    "cv2.imshow('blended',blended)\n",
    "cv2.waitKey(0)\n",
    "cv2.destroyAllWindows()"
   ]
  },
  {
   "cell_type": "code",
   "execution_count": 14,
   "id": "445da054",
   "metadata": {},
   "outputs": [],
   "source": [
    "#addition of two image\n",
    "\n",
    "img1=cv2.imread('./images/flemingo.jpg')\n",
    "img2=cv2.imread('./images/beach.jpg')\n",
    "\n",
    "img2=np.resize(img2,img1.shape)\n",
    "\n",
    "added=cv2.add(img1,img2)\n",
    "\n",
    "cv2.imshow('added',added)\n",
    "cv2.waitKey(0)\n",
    "cv2.destroyAllWindows()\n"
   ]
  },
  {
   "cell_type": "code",
   "execution_count": null,
   "id": "44b896cc",
   "metadata": {},
   "outputs": [],
   "source": [
    "#histogram plotting\n",
    "plt.hist(added.ravel(),256,[0,256])\n",
    "plt.show()"
   ]
  }
 ],
 "metadata": {
  "kernelspec": {
   "display_name": "Python 3 (ipykernel)",
   "language": "python",
   "name": "python3"
  },
  "language_info": {
   "codemirror_mode": {
    "name": "ipython",
    "version": 3
   },
   "file_extension": ".py",
   "mimetype": "text/x-python",
   "name": "python",
   "nbconvert_exporter": "python",
   "pygments_lexer": "ipython3",
   "version": "3.10.0"
  }
 },
 "nbformat": 4,
 "nbformat_minor": 5
}
