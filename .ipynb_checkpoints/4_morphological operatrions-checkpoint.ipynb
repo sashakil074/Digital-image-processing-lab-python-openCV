{
 "cells": [
  {
   "cell_type": "code",
   "execution_count": 2,
   "id": "c2303225",
   "metadata": {},
   "outputs": [],
   "source": [
    "import cv2\n",
    "import numpy as np\n",
    "from matplotlib import pyplot as plt"
   ]
  },
  {
   "cell_type": "code",
   "execution_count": 3,
   "id": "946b8f18",
   "metadata": {},
   "outputs": [],
   "source": [
    "img=cv2.imread('./images/j.png')"
   ]
  },
  {
   "cell_type": "code",
   "execution_count": 3,
   "id": "20f58239",
   "metadata": {},
   "outputs": [],
   "source": [
    "#erosion\n",
    "#The basic idea of erosion is just like soil erosion only, it erodes away\n",
    "#the boundaries of foreground object (Always try to keep foreground in white).\n",
    "\n",
    "kernel=np.ones((5,5),dtype='uint8')\n",
    "\n",
    "eroded=cv2.erode(img,kernel,iterations=1)\n",
    "\n",
    "cv2.imshow('original',img)\n",
    "cv2.imshow('img eroded',eroded)\n",
    "cv2.waitKey(0)\n",
    "cv2.destroyAllWindows()"
   ]
  },
  {
   "cell_type": "code",
   "execution_count": 4,
   "id": "3d076d1c",
   "metadata": {},
   "outputs": [],
   "source": [
    "#dilation\n",
    " #it increases the white region in the image or size of foreground object increases.\n",
    "    \n",
    "kernel=np.ones((5,5),dtype='uint8')\n",
    "\n",
    "dilated=cv2.dilate(img,kernel,iterations=1)\n",
    "\n",
    "cv2.imshow('original',img)\n",
    "cv2.imshow('img dilated',dilated)\n",
    "cv2.waitKey(0)\n",
    "cv2.destroyAllWindows()"
   ]
  },
  {
   "cell_type": "code",
   "execution_count": 5,
   "id": "3c7128aa",
   "metadata": {},
   "outputs": [],
   "source": [
    "#opening\n",
    "#Opening is just another name of erosion followed by dilation. It is useful in removing noise,\n",
    "#as we explained above. Here we use the function,\n",
    "\n",
    "kernel=np.ones((5,5),dtype='uint8')\n",
    "\n",
    "img2=cv2.imread('./images/opening.png')\n",
    "\n",
    "opened=cv2.morphologyEx(img2,cv2.MORPH_OPEN,kernel)\n",
    "\n",
    "cv2.imshow('original',img2)\n",
    "cv2.imshow('img opened',opened)\n",
    "cv2.waitKey(0)\n",
    "cv2.destroyAllWindows()"
   ]
  },
  {
   "cell_type": "code",
   "execution_count": 7,
   "id": "6c10a9ea",
   "metadata": {},
   "outputs": [],
   "source": [
    "#closing\n",
    "#Closing is reverse of Opening, Dilation followed by Erosion . It is useful in closing small holes \n",
    "#inside the foreground objects, or small black points on the object.\n",
    "\n",
    "kernel=np.ones((5,5),dtype='uint8')\n",
    "\n",
    "img3=cv2.imread('./images/closing.png')\n",
    "\n",
    "closed=cv2.morphologyEx(img3,cv2.MORPH_CLOSE,kernel)\n",
    "\n",
    "cv2.imshow('original',img3)\n",
    "cv2.imshow('img closed',closed)\n",
    "cv2.waitKey(0)\n",
    "cv2.destroyAllWindows()"
   ]
  },
  {
   "cell_type": "code",
   "execution_count": null,
   "id": "209fbb2e",
   "metadata": {},
   "outputs": [],
   "source": []
  }
 ],
 "metadata": {
  "kernelspec": {
   "display_name": "Python 3 (ipykernel)",
   "language": "python",
   "name": "python3"
  },
  "language_info": {
   "codemirror_mode": {
    "name": "ipython",
    "version": 3
   },
   "file_extension": ".py",
   "mimetype": "text/x-python",
   "name": "python",
   "nbconvert_exporter": "python",
   "pygments_lexer": "ipython3",
   "version": "3.10.0"
  }
 },
 "nbformat": 4,
 "nbformat_minor": 5
}
