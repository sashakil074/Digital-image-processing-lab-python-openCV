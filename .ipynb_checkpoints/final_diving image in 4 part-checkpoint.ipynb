{
 "cells": [
  {
   "cell_type": "code",
   "execution_count": 1,
   "id": "d275d814",
   "metadata": {},
   "outputs": [
    {
     "ename": "SyntaxError",
     "evalue": "invalid character '🙂' (U+1F642) (327217869.py, line 31)",
     "output_type": "error",
     "traceback": [
      "\u001b[1;36m  Input \u001b[1;32mIn [1]\u001b[1;36m\u001b[0m\n\u001b[1;33m    topL = left_part[:half2, 🙂\u001b[0m\n\u001b[1;37m                             ^\u001b[0m\n\u001b[1;31mSyntaxError\u001b[0m\u001b[1;31m:\u001b[0m invalid character '🙂' (U+1F642)\n"
     ]
    }
   ],
   "source": [
    "import cv2\n",
    "import numpy as np\n",
    "from matplotlib import pyplot as plt\n",
    "  \n",
    "img = cv2.imread('./images/flemingo.jpg')\n",
    "\n",
    "\n",
    "h, w, channels = img.shape\n",
    "  \n",
    "half = w//2\n",
    "  \n",
    "  \n",
    "# this will be the first column\n",
    "left_part = img[:, :half] \n",
    "  \n",
    "# [:,:half] means all the rows and\n",
    "# all the columns upto index half\n",
    "  \n",
    "# this will be the second column\n",
    "right_part = img[:, half:]  \n",
    "  \n",
    "# [:,half:] means al the rows and all\n",
    "# the columns from index half to the end\n",
    "# cv2.imshow is used for displaying the image\n",
    "#cv2.imshow('Left part', left_part)\n",
    "#cv2.imshow('Right part', right_part)\n",
    "  \n",
    "# this is horizontal division\n",
    "half2 = h//2\n",
    "  \n",
    "topL = left_part[:half2, :]\n",
    "bottomL = left_part[half2:,:] \n",
    "\n",
    "cv2.imshow('Raw Image',img)\n",
    "  \n",
    "cv2.imshow('TopL', topL)\n",
    "cv2.imshow('BottomL', bottomL)\n",
    "\n",
    "topR = right_part[:half2,:]\n",
    "bottomR = right_part[half2:, :]\n",
    "  \n",
    "cv2.imshow('TopR', topR)\n",
    "cv2.imshow('BottomR', bottomR)\n",
    "  \n",
    "# saving all the images\n",
    "# cv2.imwrite() function will save the image \n",
    "# into your pc\n",
    "#cv2.imwrite('top.jpg', topL)\n",
    "#cv2.imwrite('bottom.jpg', bottomL)\n",
    "#cv2.imwrite('right.jpg', topR)\n",
    "#cv2.imwrite('left.jpg', bottomR)\n",
    "cv2.waitKey(0)\n",
    "cv2.destroyAllWindows()\n",
    "Write to Bijon Mollick\n"
   ]
  },
  {
   "cell_type": "code",
   "execution_count": null,
   "id": "e4ab0162",
   "metadata": {},
   "outputs": [],
   "source": []
  }
 ],
 "metadata": {
  "kernelspec": {
   "display_name": "Python 3 (ipykernel)",
   "language": "python",
   "name": "python3"
  },
  "language_info": {
   "codemirror_mode": {
    "name": "ipython",
    "version": 3
   },
   "file_extension": ".py",
   "mimetype": "text/x-python",
   "name": "python",
   "nbconvert_exporter": "python",
   "pygments_lexer": "ipython3",
   "version": "3.10.0"
  }
 },
 "nbformat": 4,
 "nbformat_minor": 5
}
