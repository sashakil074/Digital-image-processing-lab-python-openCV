{
 "cells": [
  {
   "cell_type": "code",
   "execution_count": 1,
   "id": "a0436eaa",
   "metadata": {},
   "outputs": [],
   "source": [
    "import cv2\n",
    "import numpy as np\n",
    "from matplotlib import pyplot as plt"
   ]
  },
  {
   "cell_type": "code",
   "execution_count": 2,
   "id": "6463ff14",
   "metadata": {},
   "outputs": [],
   "source": [
    "img=cv2.imread('./images/flemingo.jpg')"
   ]
  },
  {
   "cell_type": "code",
   "execution_count": 3,
   "id": "333971f9",
   "metadata": {},
   "outputs": [],
   "source": [
    "#average blur\n",
    "\n",
    "blur_img=cv2.blur(img,(5,5))\n",
    "\n",
    "cv2.imshow('original',img)\n",
    "cv2.imshow('Average blur',blur_img)\n",
    "cv2.waitKey(0)\n",
    "cv2.destroyAllWindows()"
   ]
  },
  {
   "cell_type": "code",
   "execution_count": 5,
   "id": "4f8c266a",
   "metadata": {},
   "outputs": [],
   "source": [
    "#Gaussian blur\n",
    "\n",
    "img_gauss=cv2.GaussianBlur(img,(5,5),0)\n",
    "\n",
    "cv2.imshow('original',img)\n",
    "cv2.imshow('img_gauss blur',img_gauss)\n",
    "cv2.waitKey(0)\n",
    "cv2.destroyAllWindows()"
   ]
  },
  {
   "cell_type": "code",
   "execution_count": 6,
   "id": "9233d082",
   "metadata": {},
   "outputs": [],
   "source": [
    "#median blur\n",
    "img_median=cv2.medianBlur(img,5)\n",
    "\n",
    "cv2.imshow('original',img)\n",
    "cv2.imshow('img_median blur',img_median)\n",
    "cv2.waitKey(0)\n",
    "cv2.destroyAllWindows()"
   ]
  },
  {
   "cell_type": "code",
   "execution_count": null,
   "id": "59183bce",
   "metadata": {},
   "outputs": [],
   "source": []
  }
 ],
 "metadata": {
  "kernelspec": {
   "display_name": "Python 3 (ipykernel)",
   "language": "python",
   "name": "python3"
  },
  "language_info": {
   "codemirror_mode": {
    "name": "ipython",
    "version": 3
   },
   "file_extension": ".py",
   "mimetype": "text/x-python",
   "name": "python",
   "nbconvert_exporter": "python",
   "pygments_lexer": "ipython3",
   "version": "3.10.0"
  }
 },
 "nbformat": 4,
 "nbformat_minor": 5
}
