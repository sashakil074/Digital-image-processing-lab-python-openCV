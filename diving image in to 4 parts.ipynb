{
 "cells": [
  {
   "cell_type": "code",
   "execution_count": 2,
   "id": "d16bca55",
   "metadata": {},
   "outputs": [
    {
     "data": {
      "text/plain": [
       "-1"
      ]
     },
     "execution_count": 2,
     "metadata": {},
     "output_type": "execute_result"
    }
   ],
   "source": [
    "import cv2\n",
    "import numpy as np\n",
    "from matplotlib import pyplot as plt\n",
    "  \n",
    "img = cv2.imread('./images/flemingo.jpg')\n",
    "  \n",
    "# cv2.imread() -> takes an image as an input\n",
    "h, w, channels = img.shape\n",
    "  \n",
    "half = w//2\n",
    "  \n",
    "  \n",
    "# this will be the first column\n",
    "left_part = img[:, :half] \n",
    "  \n",
    "# [:,:half] means all the rows and\n",
    "# all the columns upto index half\n",
    "  \n",
    "# this will be the second column\n",
    "right_part = img[:, half:]  \n",
    "  \n",
    "# [:,half:] means al the rows and all\n",
    "# the columns from index half to the end\n",
    "# cv2.imshow is used for displaying the image\n",
    "cv2.imshow('Left part', left_part)\n",
    "cv2.imshow('Right part', right_part)\n",
    "  \n",
    "# this is horizontal division\n",
    "half2 = h//2\n",
    "  \n",
    "top = img[:half2, :]\n",
    "bottom = img[half2:, :]\n",
    "  \n",
    "cv2.imshow('Top', top)\n",
    "cv2.imshow('Bottom', bottom)\n",
    "  \n",
    "# saving all the images\n",
    "# cv2.imwrite() function will save the image \n",
    "# into your pc\n",
    "cv2.imwrite('top.jpg', top)\n",
    "cv2.imwrite('bottom.jpg', bottom)\n",
    "cv2.imwrite('right.jpg', right_part)\n",
    "cv2.imwrite('left.jpg', left_part)\n",
    "cv2.waitKey(0)"
   ]
  },
  {
   "cell_type": "code",
   "execution_count": null,
   "id": "0f327352",
   "metadata": {},
   "outputs": [],
   "source": []
  }
 ],
 "metadata": {
  "kernelspec": {
   "display_name": "Python 3 (ipykernel)",
   "language": "python",
   "name": "python3"
  },
  "language_info": {
   "codemirror_mode": {
    "name": "ipython",
    "version": 3
   },
   "file_extension": ".py",
   "mimetype": "text/x-python",
   "name": "python",
   "nbconvert_exporter": "python",
   "pygments_lexer": "ipython3",
   "version": "3.10.0"
  }
 },
 "nbformat": 4,
 "nbformat_minor": 5
}
