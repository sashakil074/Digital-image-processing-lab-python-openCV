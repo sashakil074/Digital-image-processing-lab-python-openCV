{
 "cells": [
  {
   "cell_type": "code",
   "execution_count": 6,
   "id": "4b08ad7a",
   "metadata": {},
   "outputs": [],
   "source": [
    "\n",
    "# import cv2 library\n",
    "import cv2\n",
    "import numpy as np\n",
    "  \n",
    "# read the images\n",
    "img = cv2.imread('./images/flemingo.jpg')\n",
    "img2 = cv2.imread('./images/box.png')\n",
    "\n",
    "#img1=np.resize(img1,img2.shape)"
   ]
  },
  {
   "cell_type": "code",
   "execution_count": 7,
   "id": "10514643",
   "metadata": {},
   "outputs": [],
   "source": [
    "h, w, channels = img.shape\n",
    "  \n",
    "half = w//2\n",
    "  \n",
    "  \n",
    "# this will be the first column\n",
    "left_part = img[:, :half] \n",
    "  \n",
    "# [:,:half] means all the rows and\n",
    "# all the columns upto index half\n",
    "  \n",
    "# this will be the second column\n",
    "right_part = img[:, half:]  \n",
    "  \n",
    "# [:,half:] means al the rows and all\n",
    "# the columns from index half to the end\n",
    "# cv2.imshow is used for displaying the image\n",
    "#cv2.imshow('Left part', left_part)\n",
    "#cv2.imshow('Right part', right_part)\n",
    "  \n",
    "# this is horizontal division\n",
    "half2 = h//2\n",
    "  \n",
    "topL = left_part[:half2, :]\n",
    "bottomL = left_part[half2:,:] \n",
    "\n",
    "\n",
    "\n",
    "topR = right_part[:half2,:]\n",
    "bottomR = right_part[half2:, :]"
   ]
  },
  {
   "cell_type": "code",
   "execution_count": 13,
   "id": "734348de",
   "metadata": {},
   "outputs": [],
   "source": [
    "# vertically concatenates images \n",
    "# of same width \n",
    "im_v1 = cv2.vconcat([topL, bottomL])\n",
    "  \n",
    "# show the output image\n",
    "cv2.imshow('sea_image jpg', im_v1)\n",
    "cv2.waitKey(0)\n",
    "cv2.destroyAllWindows()"
   ]
  },
  {
   "cell_type": "code",
   "execution_count": 14,
   "id": "90eecd54",
   "metadata": {},
   "outputs": [],
   "source": [
    "im_v2 = cv2.vconcat([topR, bottomR])\n",
    "  \n",
    "# show the output image\n",
    "cv2.imshow('sea_image jpg', im_v2)\n",
    "cv2.waitKey(0)\n",
    "cv2.destroyAllWindows()"
   ]
  },
  {
   "cell_type": "code",
   "execution_count": 15,
   "id": "7e7d9456",
   "metadata": {},
   "outputs": [],
   "source": [
    "\n",
    "# horizontally concatenates images\n",
    "# of same height \n",
    "im_h = cv2.hconcat([im_v1, im_v2])\n",
    "  \n",
    "# show the output image\n",
    "cv2.imshow('man_image jpeg', im_h)\n",
    "cv2.waitKey(0)\n",
    "cv2.destroyAllWindows()"
   ]
  },
  {
   "cell_type": "code",
   "execution_count": null,
   "id": "803d5dcf",
   "metadata": {},
   "outputs": [],
   "source": []
  }
 ],
 "metadata": {
  "kernelspec": {
   "display_name": "Python 3 (ipykernel)",
   "language": "python",
   "name": "python3"
  },
  "language_info": {
   "codemirror_mode": {
    "name": "ipython",
    "version": 3
   },
   "file_extension": ".py",
   "mimetype": "text/x-python",
   "name": "python",
   "nbconvert_exporter": "python",
   "pygments_lexer": "ipython3",
   "version": "3.10.0"
  }
 },
 "nbformat": 4,
 "nbformat_minor": 5
}
